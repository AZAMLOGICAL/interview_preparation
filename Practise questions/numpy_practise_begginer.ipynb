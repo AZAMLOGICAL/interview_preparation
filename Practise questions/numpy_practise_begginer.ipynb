{
 "cells": [
  {
   "cell_type": "code",
   "execution_count": 2,
   "id": "20bf0b41-85ab-491f-b65f-c966a56a427f",
   "metadata": {},
   "outputs": [],
   "source": [
    "import numpy as np"
   ]
  },
  {
   "cell_type": "code",
   "execution_count": 3,
   "id": "f05d8fde-23ad-42c5-bfba-00e8974861fe",
   "metadata": {},
   "outputs": [
    {
     "data": {
      "text/plain": [
       "array([1, 2, 3, 4])"
      ]
     },
     "execution_count": 3,
     "metadata": {},
     "output_type": "execute_result"
    }
   ],
   "source": [
    "# How do you create a NumPy array from a list?\n",
    "l = [1,2, 3,4]\n",
    "np.array(l)"
   ]
  },
  {
   "cell_type": "code",
   "execution_count": 4,
   "id": "8a605a36-fcfd-44d6-b065-e9902f621a99",
   "metadata": {},
   "outputs": [
    {
     "data": {
      "text/plain": [
       "array([ 1.,  2.,  3.,  4.,  5.,  6.,  7.,  8.,  9., 10.])"
      ]
     },
     "execution_count": 4,
     "metadata": {},
     "output_type": "execute_result"
    }
   ],
   "source": [
    "# How can you create an array of evenly spaced numbers between two values?\n",
    "arr1 = np.linspace(1,10,10)\n",
    "arr1"
   ]
  },
  {
   "cell_type": "code",
   "execution_count": 7,
   "id": "53e2eca3-5a26-4d30-8cca-0fcec4d85c3f",
   "metadata": {},
   "outputs": [
    {
     "data": {
      "text/plain": [
       "array([[0., 0.],\n",
       "       [0., 0.]])"
      ]
     },
     "execution_count": 7,
     "metadata": {},
     "output_type": "execute_result"
    }
   ],
   "source": [
    "# What’s the difference between np.zeros(), np.ones(), and np.empty()?\n",
    "np.zeros(shape=(2,2))"
   ]
  },
  {
   "cell_type": "code",
   "execution_count": 8,
   "id": "cac3f0fd-7bf8-4d8c-82d4-f03c99c2b7d6",
   "metadata": {},
   "outputs": [
    {
     "data": {
      "text/plain": [
       "array([[1., 1.],\n",
       "       [1., 1.]])"
      ]
     },
     "execution_count": 8,
     "metadata": {},
     "output_type": "execute_result"
    }
   ],
   "source": [
    "np.ones(shape=(2,2))"
   ]
  },
  {
   "cell_type": "code",
   "execution_count": 10,
   "id": "4ca60b29-43f2-480b-bfcc-f9be29abc313",
   "metadata": {},
   "outputs": [
    {
     "data": {
      "text/plain": [
       "array([[1., 1.],\n",
       "       [1., 1.]])"
      ]
     },
     "execution_count": 10,
     "metadata": {},
     "output_type": "execute_result"
    }
   ],
   "source": [
    "# It random fills any garbage\n",
    "# Used when values are to be filled immediately afterwards\n",
    "np.empty(shape=(2,2), dtype=float)"
   ]
  },
  {
   "cell_type": "code",
   "execution_count": 12,
   "id": "0e7df8bd-36e9-4efa-a614-0c51259ca0c2",
   "metadata": {},
   "outputs": [
    {
     "data": {
      "text/plain": [
       "array([[98, 97],\n",
       "       [99, 16]])"
      ]
     },
     "execution_count": 12,
     "metadata": {},
     "output_type": "execute_result"
    }
   ],
   "source": [
    "# How do you generate a 2D array with random integers between 0 and 100?\n",
    "np.random.randint(low=1, high=100, size=(2,2))"
   ]
  },
  {
   "cell_type": "code",
   "execution_count": 14,
   "id": "e3132647-39f6-4372-864f-c19fdb246704",
   "metadata": {},
   "outputs": [
    {
     "data": {
      "text/plain": [
       "array([1, 2, 3, 4])"
      ]
     },
     "execution_count": 14,
     "metadata": {},
     "output_type": "execute_result"
    }
   ],
   "source": [
    "# What’s the difference between np.array() and np.asarray()?\n",
    "a = np.array([1,2,3,4])\n",
    "a"
   ]
  },
  {
   "cell_type": "code",
   "execution_count": 16,
   "id": "ff311267-23b4-4db5-9288-81688915a5c3",
   "metadata": {},
   "outputs": [
    {
     "data": {
      "text/plain": [
       "True"
      ]
     },
     "execution_count": 16,
     "metadata": {},
     "output_type": "execute_result"
    }
   ],
   "source": [
    "b = np.asarray(a)\n",
    "b is a # returns the same copy"
   ]
  },
  {
   "cell_type": "code",
   "execution_count": 18,
   "id": "b5aff6ab-ae5c-430a-bf90-f8fd1f2d33bc",
   "metadata": {},
   "outputs": [
    {
     "data": {
      "text/plain": [
       "array([2, 3, 4])"
      ]
     },
     "execution_count": 18,
     "metadata": {},
     "output_type": "execute_result"
    }
   ],
   "source": [
    "# What is broadcasting in NumPy? Give an example.\n",
    "a= np.array([1,2,3])\n",
    "b = np.array([1])\n",
    "a+b"
   ]
  },
  {
   "cell_type": "code",
   "execution_count": 19,
   "id": "a275b9d0-09e9-403a-9885-0c10ca4d8b57",
   "metadata": {},
   "outputs": [
    {
     "data": {
      "text/plain": [
       "array([[2, 3],\n",
       "       [4, 5]])"
      ]
     },
     "execution_count": 19,
     "metadata": {},
     "output_type": "execute_result"
    }
   ],
   "source": [
    "# Explain the difference between reshape() and ravel() in NumPy.\n",
    "a = np.array([[2,3],[4,5]])\n",
    "a"
   ]
  },
  {
   "cell_type": "code",
   "execution_count": 20,
   "id": "54b56058-31c5-4dab-a97d-8ce4d75858ee",
   "metadata": {},
   "outputs": [
    {
     "data": {
      "text/plain": [
       "array([2, 3, 4, 5])"
      ]
     },
     "execution_count": 20,
     "metadata": {},
     "output_type": "execute_result"
    }
   ],
   "source": [
    "a.ravel()"
   ]
  },
  {
   "cell_type": "code",
   "execution_count": 22,
   "id": "7ac8fc2a-07f4-4c85-ae56-456fe19a90c3",
   "metadata": {},
   "outputs": [
    {
     "data": {
      "text/plain": [
       "array([[2, 3, 4, 5]])"
      ]
     },
     "execution_count": 22,
     "metadata": {},
     "output_type": "execute_result"
    }
   ],
   "source": [
    "a.reshape((1,4))"
   ]
  },
  {
   "cell_type": "code",
   "execution_count": 25,
   "id": "c72b79ad-a8b6-4356-998b-85c3cf0a97e2",
   "metadata": {},
   "outputs": [
    {
     "data": {
      "text/plain": [
       "(dtype('int32'), (2, 2), 4)"
      ]
     },
     "execution_count": 25,
     "metadata": {},
     "output_type": "execute_result"
    }
   ],
   "source": [
    "# How do you find the shape, size, and data type of a NumPy array?\n",
    "a.dtype, a.shape, a.size"
   ]
  },
  {
   "cell_type": "code",
   "execution_count": 28,
   "id": "cee7338f-d0be-4e12-bec5-ba17fae0e42a",
   "metadata": {},
   "outputs": [
    {
     "data": {
      "text/plain": [
       "array([ 1,  2,  3,  4,  5,  6,  7,  8,  9, 10])"
      ]
     },
     "execution_count": 28,
     "metadata": {},
     "output_type": "execute_result"
    }
   ],
   "source": [
    "# What does np.linspace() do? What’s the difference from np.arange()?\n",
    "np.linspace(1,10,10, dtype=int)"
   ]
  },
  {
   "cell_type": "code",
   "execution_count": 27,
   "id": "26c752ed-d573-473c-9d71-e06729926dcc",
   "metadata": {},
   "outputs": [
    {
     "data": {
      "text/plain": [
       "array([1, 2, 3, 4, 5, 6, 7, 8, 9])"
      ]
     },
     "execution_count": 27,
     "metadata": {},
     "output_type": "execute_result"
    }
   ],
   "source": [
    "np.arange(1,10,1)"
   ]
  },
  {
   "cell_type": "code",
   "execution_count": 29,
   "id": "1fa1d83d-d3d4-44cd-afb1-46c2952c0452",
   "metadata": {},
   "outputs": [
    {
     "data": {
      "text/plain": [
       "array([[1., 1., 1., 1.],\n",
       "       [1., 1., 1., 1.],\n",
       "       [1., 1., 1., 1.],\n",
       "       [1., 1., 1., 1.]])"
      ]
     },
     "execution_count": 29,
     "metadata": {},
     "output_type": "execute_result"
    }
   ],
   "source": [
    "# Create a 4x4 identity matrix using NumPy.\n",
    "a = np.ones(shape=(4,4))\n",
    "a"
   ]
  },
  {
   "cell_type": "code",
   "execution_count": 34,
   "id": "56795487-90d6-4b52-ad3c-d78bb0d77907",
   "metadata": {},
   "outputs": [
    {
     "data": {
      "text/plain": [
       "array([4, 3, 2, 1])"
      ]
     },
     "execution_count": 34,
     "metadata": {},
     "output_type": "execute_result"
    }
   ],
   "source": [
    "# Given a 1D array, write code to reverse it using slicing.\n",
    "a = np.array([1,2,3,4])\n",
    "a[::-1]"
   ]
  },
  {
   "cell_type": "code",
   "execution_count": 35,
   "id": "303ed73b-8192-4176-8ca2-8a7205747a6b",
   "metadata": {},
   "outputs": [
    {
     "data": {
      "text/plain": [
       "array([-1,  2, -1,  4])"
      ]
     },
     "execution_count": 35,
     "metadata": {},
     "output_type": "execute_result"
    }
   ],
   "source": [
    "# How do you replace all odd numbers in a NumPy array with -1?\n",
    "np.where(a%2==1, -1, a)"
   ]
  },
  {
   "cell_type": "code",
   "execution_count": 37,
   "id": "176993a5-9d32-46d1-a97f-30f09ef2815a",
   "metadata": {},
   "outputs": [
    {
     "data": {
      "text/plain": [
       "array([[1, 2, 3],\n",
       "       [4, 5, 6]])"
      ]
     },
     "execution_count": 37,
     "metadata": {},
     "output_type": "execute_result"
    }
   ],
   "source": [
    "# Given a 2D array, how do you flatten it into a 1D array?\n",
    "a = np.array([[1,2,3],[4,5,6]])\n",
    "a"
   ]
  },
  {
   "cell_type": "code",
   "execution_count": 38,
   "id": "6ef72be3-1e1d-4ca1-b12e-bf9f79065bf8",
   "metadata": {},
   "outputs": [
    {
     "data": {
      "text/plain": [
       "array([1, 2, 3, 4, 5, 6])"
      ]
     },
     "execution_count": 38,
     "metadata": {},
     "output_type": "execute_result"
    }
   ],
   "source": [
    "a.ravel()"
   ]
  },
  {
   "cell_type": "code",
   "execution_count": 40,
   "id": "9d15c72b-e331-44db-9e3a-3ce419bfbfc2",
   "metadata": {},
   "outputs": [
    {
     "data": {
      "text/plain": [
       "array([0, 1, 2, 0])"
      ]
     },
     "execution_count": 40,
     "metadata": {},
     "output_type": "execute_result"
    }
   ],
   "source": [
    "# How do you find the indices of non-zero elements in a NumPy array?\n",
    "a = np.array([0,1,2,0])\n",
    "a"
   ]
  },
  {
   "cell_type": "code",
   "execution_count": 41,
   "id": "7f322bd8-f5e0-43af-89b1-57b8f4fef040",
   "metadata": {},
   "outputs": [
    {
     "data": {
      "text/plain": [
       "(array([1, 2], dtype=int64),)"
      ]
     },
     "execution_count": 41,
     "metadata": {},
     "output_type": "execute_result"
    }
   ],
   "source": [
    "np.where(a !=0)"
   ]
  },
  {
   "cell_type": "code",
   "execution_count": 49,
   "id": "d0bd8a97-b408-4858-a7b9-9b8010cfb9b1",
   "metadata": {},
   "outputs": [
    {
     "data": {
      "text/plain": [
       "array([[3, 5],\n",
       "       [4, 5]])"
      ]
     },
     "execution_count": 49,
     "metadata": {},
     "output_type": "execute_result"
    }
   ],
   "source": [
    "# Write code to normalize a NumPy array (scale values between 0 and 1).\n",
    "a = np.array([[3,5],\n",
    "           [4,5]])\n",
    "a"
   ]
  },
  {
   "cell_type": "code",
   "execution_count": 50,
   "id": "59dbe5db-389c-41a7-b85f-a9e33a7fe636",
   "metadata": {},
   "outputs": [],
   "source": [
    "norm = np.linalg.norm(a, axis=0)"
   ]
  },
  {
   "cell_type": "code",
   "execution_count": 52,
   "id": "6c4195eb-2cf8-4677-9f03-d6781962f6f1",
   "metadata": {},
   "outputs": [
    {
     "data": {
      "text/plain": [
       "array([5.        , 7.07106781])"
      ]
     },
     "execution_count": 52,
     "metadata": {},
     "output_type": "execute_result"
    }
   ],
   "source": [
    "norm"
   ]
  },
  {
   "cell_type": "code",
   "execution_count": 51,
   "id": "0068e5b7-4579-4d1f-9939-acd4aa32413f",
   "metadata": {},
   "outputs": [
    {
     "data": {
      "text/plain": [
       "array([[0.6       , 0.70710678],\n",
       "       [0.8       , 0.70710678]])"
      ]
     },
     "execution_count": 51,
     "metadata": {},
     "output_type": "execute_result"
    }
   ],
   "source": [
    "a/norm"
   ]
  },
  {
   "cell_type": "code",
   "execution_count": 53,
   "id": "2236a3ef-7ab0-49b9-9eb0-4a3032888f46",
   "metadata": {},
   "outputs": [],
   "source": [
    "# How do you compute the dot product of two matrices in NumPy?"
   ]
  },
  {
   "cell_type": "code",
   "execution_count": 56,
   "id": "8eea139c-798b-43ea-b376-65aa8a504d2c",
   "metadata": {},
   "outputs": [],
   "source": [
    "a = np.array([1,1])\n",
    "b = np.array([[4],\n",
    "             [1]])\n",
    "c = np.array([2,3])"
   ]
  },
  {
   "cell_type": "code",
   "execution_count": 55,
   "id": "33b497a6-dcc7-412b-948d-e3205d4014ad",
   "metadata": {},
   "outputs": [
    {
     "data": {
      "text/plain": [
       "array([5])"
      ]
     },
     "execution_count": 55,
     "metadata": {},
     "output_type": "execute_result"
    }
   ],
   "source": [
    "np.dot(a,b)"
   ]
  },
  {
   "cell_type": "code",
   "execution_count": 58,
   "id": "039fe204-ab3d-40da-8e51-45c886798e38",
   "metadata": {},
   "outputs": [
    {
     "data": {
      "text/plain": [
       "5"
      ]
     },
     "execution_count": 58,
     "metadata": {},
     "output_type": "execute_result"
    }
   ],
   "source": [
    "np.dot(a,c)"
   ]
  },
  {
   "cell_type": "code",
   "execution_count": 59,
   "id": "7adcd032-20ca-471d-9328-7b5bdd233ed1",
   "metadata": {},
   "outputs": [
    {
     "data": {
      "text/plain": [
       "array([ 1,  3,  6, 10, 15])"
      ]
     },
     "execution_count": 59,
     "metadata": {},
     "output_type": "execute_result"
    }
   ],
   "source": [
    "# How do you find the cumulative sum and cumulative product of a NumPy array?\n",
    "a = np.array([1,2,3,4,5])\n",
    "a.cumsum()"
   ]
  },
  {
   "cell_type": "code",
   "execution_count": 60,
   "id": "9f9c6723-61a4-4474-a1b7-e5fd94e83345",
   "metadata": {},
   "outputs": [
    {
     "data": {
      "text/plain": [
       "array([  1,   2,   6,  24, 120])"
      ]
     },
     "execution_count": 60,
     "metadata": {},
     "output_type": "execute_result"
    }
   ],
   "source": [
    "a.cumprod()"
   ]
  },
  {
   "cell_type": "code",
   "execution_count": 61,
   "id": "080489ad-44f2-4fba-bba3-fe5fd82d5501",
   "metadata": {},
   "outputs": [
    {
     "data": {
      "text/plain": [
       "array([2, 3, 4, 5])"
      ]
     },
     "execution_count": 61,
     "metadata": {},
     "output_type": "execute_result"
    }
   ],
   "source": [
    "# How do you create a boolean mask for elements greater than the mean of the array?\n",
    "a = np.array([2,3,4,5])\n",
    "a"
   ]
  },
  {
   "cell_type": "code",
   "execution_count": 62,
   "id": "e1984484-8a92-46f4-9b34-3f5f205b1c60",
   "metadata": {},
   "outputs": [
    {
     "data": {
      "text/plain": [
       "array([False, False,  True,  True])"
      ]
     },
     "execution_count": 62,
     "metadata": {},
     "output_type": "execute_result"
    }
   ],
   "source": [
    "np.where(a>a.mean(), True, False)"
   ]
  },
  {
   "cell_type": "code",
   "execution_count": 63,
   "id": "3ca88dab-503b-41f2-bdfa-d335eca22c2c",
   "metadata": {},
   "outputs": [
    {
     "data": {
      "text/plain": [
       "array([1, 2, 2, 2, 3, 4, 4])"
      ]
     },
     "execution_count": 63,
     "metadata": {},
     "output_type": "execute_result"
    }
   ],
   "source": [
    "# How do you find the most frequent value (mode) in a NumPy array?\n",
    "a = np.array([1,2,2,2,3,4,4])\n",
    "a"
   ]
  },
  {
   "cell_type": "code",
   "execution_count": 64,
   "id": "0685f0e7-a01f-4c63-998a-b4523a578c7b",
   "metadata": {},
   "outputs": [
    {
     "data": {
      "text/plain": [
       "array([1, 2, 3, 4])"
      ]
     },
     "execution_count": 64,
     "metadata": {},
     "output_type": "execute_result"
    }
   ],
   "source": [
    "unique, count = np.unique(a, return_counts=True)\n",
    "unique"
   ]
  },
  {
   "cell_type": "code",
   "execution_count": 65,
   "id": "6a3e3e13-70a2-4f34-95ef-4ccf85660f73",
   "metadata": {},
   "outputs": [
    {
     "data": {
      "text/plain": [
       "array([1, 3, 1, 2], dtype=int64)"
      ]
     },
     "execution_count": 65,
     "metadata": {},
     "output_type": "execute_result"
    }
   ],
   "source": [
    "count"
   ]
  },
  {
   "cell_type": "code",
   "execution_count": 66,
   "id": "17d3486f-e465-4060-a04b-9c4199c2648e",
   "metadata": {},
   "outputs": [
    {
     "data": {
      "text/plain": [
       "1"
      ]
     },
     "execution_count": 66,
     "metadata": {},
     "output_type": "execute_result"
    }
   ],
   "source": [
    "max_arg = np.argmax(count)\n",
    "max_arg"
   ]
  },
  {
   "cell_type": "code",
   "execution_count": 68,
   "id": "36804e02-644b-47b7-b2d0-913caa181425",
   "metadata": {},
   "outputs": [
    {
     "data": {
      "text/plain": [
       "2"
      ]
     },
     "execution_count": 68,
     "metadata": {},
     "output_type": "execute_result"
    }
   ],
   "source": [
    "unique[max_arg]"
   ]
  },
  {
   "cell_type": "code",
   "execution_count": null,
   "id": "b4f1bb71-9ef1-4375-8373-def12e4c25fd",
   "metadata": {},
   "outputs": [],
   "source": []
  }
 ],
 "metadata": {
  "kernelspec": {
   "display_name": "Python 3 (ipykernel)",
   "language": "python",
   "name": "python3"
  },
  "language_info": {
   "codemirror_mode": {
    "name": "ipython",
    "version": 3
   },
   "file_extension": ".py",
   "mimetype": "text/x-python",
   "name": "python",
   "nbconvert_exporter": "python",
   "pygments_lexer": "ipython3",
   "version": "3.11.7"
  }
 },
 "nbformat": 4,
 "nbformat_minor": 5
}
