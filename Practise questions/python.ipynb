{
 "cells": [
  {
   "cell_type": "code",
   "execution_count": 1,
   "id": "81bf6fbb-fc9f-4129-85a9-0c6e2a6a26e2",
   "metadata": {},
   "outputs": [],
   "source": [
    "import pandas as pd\n",
    "import numpy as np"
   ]
  },
  {
   "cell_type": "code",
   "execution_count": 2,
   "id": "2f66820f-a3f8-4073-8841-d5bb54c7534b",
   "metadata": {},
   "outputs": [],
   "source": [
    "# Q: How can you merge two dictionaries in Python 3.9+?"
   ]
  },
  {
   "cell_type": "code",
   "execution_count": 7,
   "id": "4b8ead25-25d0-48d3-83e4-57cb01521542",
   "metadata": {},
   "outputs": [],
   "source": [
    "d1 = {'a':2, 'b':3}\n",
    "d2 = {'c': 4}"
   ]
  },
  {
   "cell_type": "code",
   "execution_count": 8,
   "id": "8c909178-1d42-4f53-a883-660a9e217f68",
   "metadata": {},
   "outputs": [],
   "source": [
    "d1.update(d2)"
   ]
  },
  {
   "cell_type": "code",
   "execution_count": 9,
   "id": "5db885c6-cb68-44d9-81a4-c06c85710c87",
   "metadata": {},
   "outputs": [
    {
     "data": {
      "text/plain": [
       "{'a': 2, 'b': 3, 'c': 4}"
      ]
     },
     "execution_count": 9,
     "metadata": {},
     "output_type": "execute_result"
    }
   ],
   "source": [
    "d1"
   ]
  },
  {
   "cell_type": "code",
   "execution_count": 10,
   "id": "51828a5e-648e-4112-bfc1-404995533b35",
   "metadata": {},
   "outputs": [
    {
     "data": {
      "text/plain": [
       "{'a': 2, 'b': 3, 'c': 4}"
      ]
     },
     "execution_count": 10,
     "metadata": {},
     "output_type": "execute_result"
    }
   ],
   "source": [
    "d1 | d2"
   ]
  },
  {
   "cell_type": "code",
   "execution_count": 11,
   "id": "0993117b-cd94-4215-8793-13be5f0073ba",
   "metadata": {},
   "outputs": [
    {
     "data": {
      "text/plain": [
       "{'a': 2, 'b': 3, 'c': 4}"
      ]
     },
     "execution_count": 11,
     "metadata": {},
     "output_type": "execute_result"
    }
   ],
   "source": [
    "{**d1, **d2}"
   ]
  },
  {
   "cell_type": "code",
   "execution_count": 13,
   "id": "5ba27de2-e7b1-4d20-ac2d-7abdd0d58556",
   "metadata": {},
   "outputs": [],
   "source": [
    "# Write a function that accepts any number of positional and keyword arguments and prints them in a readable format.\n",
    "def amir_funct(a, b, c=1, d=2):\n",
    "    print(a+b)\n",
    "    print(c+d)"
   ]
  },
  {
   "cell_type": "code",
   "execution_count": 18,
   "id": "e36b067b-a328-44f8-be57-9e9690a94968",
   "metadata": {},
   "outputs": [],
   "source": [
    "# Q: What is the difference between @classmethod and @staticmethod in Python? Give an example."
   ]
  },
  {
   "cell_type": "code",
   "execution_count": 19,
   "id": "9559090f-c253-40ff-90d1-2d2d9b000026",
   "metadata": {},
   "outputs": [],
   "source": [
    "class MathUtils:\n",
    "    @staticmethod\n",
    "    def add(a, b):\n",
    "        return a +b"
   ]
  },
  {
   "cell_type": "code",
   "execution_count": 20,
   "id": "9b1e6ebb-ff2a-4320-a8d7-858041161754",
   "metadata": {},
   "outputs": [
    {
     "data": {
      "text/plain": [
       "9"
      ]
     },
     "execution_count": 20,
     "metadata": {},
     "output_type": "execute_result"
    }
   ],
   "source": [
    "MathUtils.add(4,5)"
   ]
  },
  {
   "cell_type": "code",
   "execution_count": 21,
   "id": "8fec2072-c196-489b-b0e4-66a11d550b97",
   "metadata": {},
   "outputs": [],
   "source": [
    "class Person:\n",
    "    count=0\n",
    "\n",
    "    def __init__(self, name):\n",
    "        self.name = name\n",
    "        Person.count += 1\n",
    "\n",
    "    @classmethod\n",
    "    def total_people(cls):\n",
    "        return cls.count"
   ]
  },
  {
   "cell_type": "code",
   "execution_count": 22,
   "id": "b1455f2b-a73f-427b-9f51-9a345bd030a5",
   "metadata": {},
   "outputs": [
    {
     "data": {
      "text/plain": [
       "0"
      ]
     },
     "execution_count": 22,
     "metadata": {},
     "output_type": "execute_result"
    }
   ],
   "source": [
    "Person.total_people()"
   ]
  },
  {
   "cell_type": "code",
   "execution_count": 23,
   "id": "cc208202-69cb-4194-8d07-6cb7e4137af5",
   "metadata": {},
   "outputs": [],
   "source": [
    "a = Person('boy')"
   ]
  },
  {
   "cell_type": "code",
   "execution_count": 25,
   "id": "476dc5a6-ecfe-4ceb-abe4-854565fd7068",
   "metadata": {},
   "outputs": [
    {
     "data": {
      "text/plain": [
       "1"
      ]
     },
     "execution_count": 25,
     "metadata": {},
     "output_type": "execute_result"
    }
   ],
   "source": [
    "Person.total_people()"
   ]
  },
  {
   "cell_type": "code",
   "execution_count": 26,
   "id": "819694b4-b1c8-4db7-9867-21057a295066",
   "metadata": {},
   "outputs": [],
   "source": [
    "# Convert a list comprehension to a generator expression and explain the memory advantage of using a generator."
   ]
  },
  {
   "cell_type": "code",
   "execution_count": 28,
   "id": "5f9f8451-ae8a-4747-8bd6-a3de90f0ce2e",
   "metadata": {},
   "outputs": [],
   "source": [
    "def generate_even(num):\n",
    "    i = 0\n",
    "    while i <= num:\n",
    "        yield i\n",
    "        i += 2"
   ]
  },
  {
   "cell_type": "code",
   "execution_count": 29,
   "id": "674785c2-d29a-468f-87b8-9e0142ed62ef",
   "metadata": {},
   "outputs": [
    {
     "name": "stdout",
     "output_type": "stream",
     "text": [
      "0\n",
      "2\n",
      "4\n",
      "6\n",
      "8\n",
      "10\n"
     ]
    }
   ],
   "source": [
    "for i in generate_even(10):\n",
    "    print(i)"
   ]
  },
  {
   "cell_type": "code",
   "execution_count": 30,
   "id": "bf5306df-e198-408d-a43f-503fb84de95b",
   "metadata": {},
   "outputs": [],
   "source": [
    "# 6. Decorator with Arguments\n",
    "# Q: Write a decorator that logs the time a function takes to execute."
   ]
  },
  {
   "cell_type": "code",
   "execution_count": 31,
   "id": "50d0a8e0-d897-42b2-9b6c-629c09583fc0",
   "metadata": {},
   "outputs": [],
   "source": [
    "# G HOW TO DEFINE A DECORATOR\n",
    "def my_Decorator(func):\n",
    "    def wrapper(*args, **kwargs):\n",
    "        print(\"Before function call\")\n",
    "        result = func(*args, **kwargs)\n",
    "        print(\"After function call\")\n",
    "        return result\n",
    "    return wrapper"
   ]
  },
  {
   "cell_type": "code",
   "execution_count": 32,
   "id": "fb3e2826-1c9f-43e2-8cdd-b660f44b0342",
   "metadata": {},
   "outputs": [],
   "source": [
    "def decorator_with_args(arg1, arg2):\n",
    "    def actual_decorator(func):\n",
    "        def wrapper(*args, **kwargs):\n",
    "            print(f\"Decorator arguments {arg1} and {arg2}\")\n",
    "            print(\"Function starts\")\n",
    "            result = func(*args, **args)\n",
    "            print(\"Function ends\")\n",
    "            return result\n",
    "        return wrapper\n",
    "    return actual_decorator"
   ]
  },
  {
   "cell_type": "code",
   "execution_count": 33,
   "id": "44c1ad95-04d1-4b36-9798-5767cd12a867",
   "metadata": {},
   "outputs": [],
   "source": [
    "# How to create an iterator\n",
    "class CountDown:\n",
    "    def __init__(self, value):\n",
    "        self.current = value\n",
    "\n",
    "    def __iter__(self):\n",
    "        return self\n",
    "\n",
    "    def __next__(self):\n",
    "        if self.current < 0:\n",
    "            raise StopIteration\n",
    "        value = self.current\n",
    "        self.current -= 1\n",
    "        return value"
   ]
  },
  {
   "cell_type": "code",
   "execution_count": 37,
   "id": "f8ae0589-10f1-4993-a540-8ec6195dad1a",
   "metadata": {},
   "outputs": [
    {
     "data": {
      "text/plain": [
       "'fun is Python'"
      ]
     },
     "execution_count": 37,
     "metadata": {},
     "output_type": "execute_result"
    }
   ],
   "source": [
    "#\"Python is fun\" → \"fun is Python\"\n",
    "s = \"Python is fun\"\n",
    "\" \".join(s.split(\" \")[::-1])"
   ]
  },
  {
   "cell_type": "code",
   "execution_count": 41,
   "id": "e3f2441b-5833-4a56-9ca0-449eac131b19",
   "metadata": {},
   "outputs": [
    {
     "name": "stdout",
     "output_type": "stream",
     "text": [
      "1\n",
      "5\n"
     ]
    }
   ],
   "source": [
    "# Q: Given a list of integers, return the most frequent number.\n",
    "lst1 = [1,1,2,3,4,5,5,6]\n",
    "dict1 = {}\n",
    "for i in lst1:\n",
    "    if i not in dict1:\n",
    "        dict1[i] = 1\n",
    "    else:\n",
    "        dict1[i] += 1\n",
    "max_freq = max(dict1.values())\n",
    "for key, value in dict1.items():\n",
    "    if value == max_freq:\n",
    "        print(key)"
   ]
  },
  {
   "cell_type": "code",
   "execution_count": 48,
   "id": "847c5ac4-3520-4ddf-a38b-13e97b284a9a",
   "metadata": {},
   "outputs": [
    {
     "data": {
      "text/plain": [
       "([' ', ' ', 'e', 'g', 'i', 'l', 'n', 's', 't'],\n",
       " [' ', 'e', 'g', 'i', 'l', 'n', 's', 't'])"
      ]
     },
     "execution_count": 48,
     "metadata": {},
     "output_type": "execute_result"
    }
   ],
   "source": [
    "# Q: Write a function that checks if two strings are anagrams:\n",
    "s1 = 'listen  g'\n",
    "s2 = 'silent g'\n",
    "sorted(s1), sorted(s2)"
   ]
  },
  {
   "cell_type": "code",
   "execution_count": 51,
   "id": "53f1c68e-fedc-45b3-aea5-9d885d7d6064",
   "metadata": {},
   "outputs": [
    {
     "data": {
      "text/plain": [
       "[1, 3, 2]"
      ]
     },
     "execution_count": 51,
     "metadata": {},
     "output_type": "execute_result"
    }
   ],
   "source": [
    "#4. Remove Duplicates While Preserving Order  Q: From a list like [1, 2, 2, 3, 1], return [1, 2, 3].\n",
    "lst1= [1, 3,3,2, 2, 3, 1]\n",
    "dict1 = {}\n",
    "for i in lst1:\n",
    "    if i not in dict1:\n",
    "        dict1[i] = 1\n",
    "list(dict1.keys())"
   ]
  },
  {
   "cell_type": "code",
   "execution_count": 52,
   "id": "7cea2978-ea42-423a-b056-1bf90efaea9d",
   "metadata": {},
   "outputs": [],
   "source": [
    "# 🚀 5. Find All Pairs That Sum to a Target\n",
    "# Q: Given a list and a target, return all unique pairs that sum to that target:\n",
    "# [1, 2, 3, 4], target = 5 → [(1,4), (2,3)]\n",
    "lst1 = [1,2,3,4]"
   ]
  },
  {
   "cell_type": "code",
   "execution_count": 54,
   "id": "78ae4cd9-9c45-4e81-bc30-0ac6943e00ff",
   "metadata": {},
   "outputs": [
    {
     "data": {
      "text/plain": [
       "[(3, 2), (4, 1)]"
      ]
     },
     "execution_count": 54,
     "metadata": {},
     "output_type": "execute_result"
    }
   ],
   "source": [
    "pairs = []\n",
    "for i in range(len(lst1)):\n",
    "    for j in range(i):\n",
    "        if lst1[i] + lst1[j] ==5:\n",
    "            pairs.append((lst1[i], lst1[j]))\n",
    "pairs"
   ]
  },
  {
   "cell_type": "code",
   "execution_count": 57,
   "id": "2882de1a-fda7-4610-9e74-7ff2e5dbd841",
   "metadata": {},
   "outputs": [
    {
     "data": {
      "text/plain": [
       "[(2, 3), (1, 4)]"
      ]
     },
     "execution_count": 57,
     "metadata": {},
     "output_type": "execute_result"
    }
   ],
   "source": [
    "pairs = [tuple(sorted(i)) for i in pairs]\n",
    "pairs"
   ]
  },
  {
   "cell_type": "code",
   "execution_count": 58,
   "id": "77f6406b-a3f3-4748-a15b-eac252874472",
   "metadata": {},
   "outputs": [
    {
     "data": {
      "text/plain": [
       "[(1, 4), (2, 3)]"
      ]
     },
     "execution_count": 58,
     "metadata": {},
     "output_type": "execute_result"
    }
   ],
   "source": [
    "sorted(pairs, key = lambda x:x[0])"
   ]
  },
  {
   "cell_type": "code",
   "execution_count": 59,
   "id": "4a010509-541b-45ba-a2ad-fb03b2aa6332",
   "metadata": {},
   "outputs": [],
   "source": [
    "# 🚀 6. Flatten a Nested List\n",
    "# Q: Given [1, [2, [3, 4]], 5], return [1, 2, 3, 4, 5]."
   ]
  },
  {
   "cell_type": "code",
   "execution_count": 62,
   "id": "b114df5c-bdb9-4e7a-84dd-df65705dd24b",
   "metadata": {},
   "outputs": [],
   "source": [
    "def flatten(lst):\n",
    "    lst1= []\n",
    "    for i in lst:\n",
    "        if isinstance(i, list):\n",
    "            lst1.extend(flatten(i))\n",
    "        else:\n",
    "            lst1.append(i)\n",
    "    return lst1\n",
    "            "
   ]
  },
  {
   "cell_type": "code",
   "execution_count": 63,
   "id": "e90b0e28-9c58-4869-8bf6-22734a23e411",
   "metadata": {},
   "outputs": [
    {
     "data": {
      "text/plain": [
       "[1, 2, 3, 4, 5]"
      ]
     },
     "execution_count": 63,
     "metadata": {},
     "output_type": "execute_result"
    }
   ],
   "source": [
    "lst1 = [1, [2, [3, 4]], 5]\n",
    "flatten(lst1)"
   ]
  },
  {
   "cell_type": "code",
   "execution_count": 64,
   "id": "bca1096d-db22-49e5-bed9-e25a76965cc3",
   "metadata": {},
   "outputs": [],
   "source": [
    "# 🚀 7. Group Words by Anagram\n",
    "# Q: Group a list of words into lists of anagrams:\n",
    "# [\"bat\", \"tab\", \"tap\", \"pat\"] → [[\"bat\", \"tab\"], [\"tap\", \"pat\"]]\n",
    "def is_anagram(s1, s2):\n",
    "    return sorted(s1) == sorted(s2)"
   ]
  },
  {
   "cell_type": "code",
   "execution_count": 67,
   "id": "b95046fd-a544-42b1-a580-f8ff0493e813",
   "metadata": {},
   "outputs": [
    {
     "name": "stdout",
     "output_type": "stream",
     "text": [
      "5\n"
     ]
    }
   ],
   "source": [
    "s = 'aabbccde'\n",
    "b = set()\n",
    "count = 0\n",
    "for i in s:\n",
    "    if i not in b:\n",
    "        b.add(i)\n",
    "        count+=1\n",
    "print(count)\n",
    "    "
   ]
  },
  {
   "cell_type": "code",
   "execution_count": 68,
   "id": "e2d2b2ef-e857-43bb-8b0d-fb1c3956ce99",
   "metadata": {},
   "outputs": [
    {
     "name": "stdout",
     "output_type": "stream",
     "text": [
      "[1]\n",
      "[1, 2]\n",
      "[1, 2, 3]\n"
     ]
    }
   ],
   "source": [
    "def func(a, L=[]):\n",
    "    L.append(a)\n",
    "    return L\n",
    "\n",
    "print(func(1))\n",
    "print(func(2))\n",
    "print(func(3))\n"
   ]
  },
  {
   "cell_type": "code",
   "execution_count": 69,
   "id": "b514254a-50cb-4596-8d4a-58260d1daf8c",
   "metadata": {},
   "outputs": [],
   "source": [
    "# [[1, 2], [3, 4], [5, 6]] → [1, 2, 3, 4, 5, 6]"
   ]
  },
  {
   "cell_type": "code",
   "execution_count": 70,
   "id": "b54a0d84-e3bf-49f2-908f-c5d4db647a4f",
   "metadata": {},
   "outputs": [],
   "source": [
    "# Create a generator that yields the Fibonacci sequence up to N.\n",
    "def generator(num):\n",
    "    i = 0\n",
    "    while i <= num:\n",
    "        yield i\n",
    "        i += 2"
   ]
  },
  {
   "cell_type": "code",
   "execution_count": 72,
   "id": "15dedfe5-06e4-4880-9fb5-b8935fcf9f50",
   "metadata": {},
   "outputs": [
    {
     "name": "stdout",
     "output_type": "stream",
     "text": [
      "0\n",
      "2\n",
      "4\n",
      "6\n",
      "8\n",
      "10\n"
     ]
    }
   ],
   "source": [
    "for i in generator(10):\n",
    "    print(i)"
   ]
  },
  {
   "cell_type": "code",
   "execution_count": 74,
   "id": "e3608685-562b-4860-ba83-d90873f5b39c",
   "metadata": {},
   "outputs": [],
   "source": [
    "def fibonacci(n, dict1):\n",
    "    if n in dict1:\n",
    "        return dict1[n]\n",
    "    elif n==0 or n==1:\n",
    "        dict1[n] = 1\n",
    "        return dict1[n] \n",
    "    else:\n",
    "        return fibonacci(n-1, dict1) + fibonacci(n-2, dict1)"
   ]
  },
  {
   "cell_type": "code",
   "execution_count": 76,
   "id": "ae5f679b-f702-47dc-88bd-112d537f7ce6",
   "metadata": {},
   "outputs": [
    {
     "data": {
      "text/plain": [
       "165580141"
      ]
     },
     "execution_count": 76,
     "metadata": {},
     "output_type": "execute_result"
    }
   ],
   "source": [
    "fibonacci(40,{})"
   ]
  },
  {
   "cell_type": "code",
   "execution_count": 77,
   "id": "f6e3b635-cb9f-482b-9ac0-fa7b8b988fd5",
   "metadata": {},
   "outputs": [],
   "source": [
    "# What’s the difference between map(), filter(), and reduce()? Show examples."
   ]
  },
  {
   "cell_type": "code",
   "execution_count": 79,
   "id": "ebc9bc06-096a-4e19-9dc7-f38874c7f83f",
   "metadata": {},
   "outputs": [
    {
     "name": "stdout",
     "output_type": "stream",
     "text": [
      "1\n",
      "4\n",
      "9\n",
      "16\n"
     ]
    }
   ],
   "source": [
    "a = [1,2,3,4]\n",
    "for i in map(lambda x:x**2, a):\n",
    "    print(i)"
   ]
  },
  {
   "cell_type": "code",
   "execution_count": 80,
   "id": "9bd06946-5895-4a00-8ff9-7aff7e9cf41d",
   "metadata": {},
   "outputs": [
    {
     "data": {
      "text/plain": [
       "[2, 4]"
      ]
     },
     "execution_count": 80,
     "metadata": {},
     "output_type": "execute_result"
    }
   ],
   "source": [
    "list(filter(lambda x :x %2==0, a))"
   ]
  },
  {
   "cell_type": "code",
   "execution_count": 82,
   "id": "5ab065d9-652e-4889-93e4-65f8488fb131",
   "metadata": {},
   "outputs": [],
   "source": [
    "from functools import reduce"
   ]
  },
  {
   "cell_type": "code",
   "execution_count": 84,
   "id": "832ab583-0fda-4500-9553-5518a5bdc5db",
   "metadata": {},
   "outputs": [
    {
     "data": {
      "text/plain": [
       "24"
      ]
     },
     "execution_count": 84,
     "metadata": {},
     "output_type": "execute_result"
    }
   ],
   "source": [
    "reduce(lambda x,y: x*y, a)"
   ]
  },
  {
   "cell_type": "code",
   "execution_count": null,
   "id": "ca8cfe40-80d7-44db-af73-31cb4004b742",
   "metadata": {},
   "outputs": [],
   "source": []
  }
 ],
 "metadata": {
  "kernelspec": {
   "display_name": "Python 3 (ipykernel)",
   "language": "python",
   "name": "python3"
  },
  "language_info": {
   "codemirror_mode": {
    "name": "ipython",
    "version": 3
   },
   "file_extension": ".py",
   "mimetype": "text/x-python",
   "name": "python",
   "nbconvert_exporter": "python",
   "pygments_lexer": "ipython3",
   "version": "3.11.7"
  }
 },
 "nbformat": 4,
 "nbformat_minor": 5
}
