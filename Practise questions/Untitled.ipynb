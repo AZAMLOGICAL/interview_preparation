{
 "cells": [
  {
   "cell_type": "code",
   "execution_count": 2,
   "id": "d49a3669-8e24-4f97-85b8-cc79375fbd33",
   "metadata": {},
   "outputs": [],
   "source": [
    "import pandas as pd\n",
    "import numpy as np"
   ]
  },
  {
   "cell_type": "code",
   "execution_count": 7,
   "id": "a712ba03-e2f3-47b2-b114-4a5577591071",
   "metadata": {},
   "outputs": [
    {
     "data": {
      "text/html": [
       "<div>\n",
       "<style scoped>\n",
       "    .dataframe tbody tr th:only-of-type {\n",
       "        vertical-align: middle;\n",
       "    }\n",
       "\n",
       "    .dataframe tbody tr th {\n",
       "        vertical-align: top;\n",
       "    }\n",
       "\n",
       "    .dataframe thead th {\n",
       "        text-align: right;\n",
       "    }\n",
       "</style>\n",
       "<table border=\"1\" class=\"dataframe\">\n",
       "  <thead>\n",
       "    <tr style=\"text-align: right;\">\n",
       "      <th>product_category</th>\n",
       "      <th>customer_id</th>\n",
       "      <th>Clothing</th>\n",
       "      <th>Electronics</th>\n",
       "      <th>Groceries</th>\n",
       "    </tr>\n",
       "  </thead>\n",
       "  <tbody>\n",
       "    <tr>\n",
       "      <th>0</th>\n",
       "      <td>101</td>\n",
       "      <td>90.0</td>\n",
       "      <td>250.0</td>\n",
       "      <td>40.0</td>\n",
       "    </tr>\n",
       "    <tr>\n",
       "      <th>1</th>\n",
       "      <td>102</td>\n",
       "      <td>80.0</td>\n",
       "      <td>300.0</td>\n",
       "      <td>NaN</td>\n",
       "    </tr>\n",
       "    <tr>\n",
       "      <th>2</th>\n",
       "      <td>103</td>\n",
       "      <td>100.0</td>\n",
       "      <td>NaN</td>\n",
       "      <td>NaN</td>\n",
       "    </tr>\n",
       "    <tr>\n",
       "      <th>3</th>\n",
       "      <td>104</td>\n",
       "      <td>NaN</td>\n",
       "      <td>NaN</td>\n",
       "      <td>60.0</td>\n",
       "    </tr>\n",
       "  </tbody>\n",
       "</table>\n",
       "</div>"
      ],
      "text/plain": [
       "product_category  customer_id  Clothing  Electronics  Groceries\n",
       "0                         101      90.0        250.0       40.0\n",
       "1                         102      80.0        300.0        NaN\n",
       "2                         103     100.0          NaN        NaN\n",
       "3                         104       NaN          NaN       60.0"
      ]
     },
     "execution_count": 7,
     "metadata": {},
     "output_type": "execute_result"
    }
   ],
   "source": [
    "# Write a function to pivot a Pandas DataFrame by customer ID and product category.\n",
    "# Sample data\n",
    "data = {\n",
    "    'customer_id': [101, 102, 101, 103, 102, 101, 104],\n",
    "    'product_category': ['Electronics', 'Clothing', 'Groceries', 'Clothing', 'Electronics', 'Clothing', 'Groceries'],\n",
    "    'purchase_amount': [250, 80, 40, 100, 300, 90, 60]\n",
    "}\n",
    "\n",
    "df = pd.DataFrame(data)\n",
    "\n",
    "# Display the DataFrame\n",
    "df = df.pivot(index='customer_id', columns='product_category', values='purchase_amount')\n",
    "df = df.reset_index()\n",
    "df\n"
   ]
  },
  {
   "cell_type": "code",
   "execution_count": 8,
   "id": "73d29210-8977-46f2-9465-90da7c7ccb74",
   "metadata": {},
   "outputs": [
    {
     "data": {
      "text/html": [
       "<div>\n",
       "<style scoped>\n",
       "    .dataframe tbody tr th:only-of-type {\n",
       "        vertical-align: middle;\n",
       "    }\n",
       "\n",
       "    .dataframe tbody tr th {\n",
       "        vertical-align: top;\n",
       "    }\n",
       "\n",
       "    .dataframe thead th {\n",
       "        text-align: right;\n",
       "    }\n",
       "</style>\n",
       "<table border=\"1\" class=\"dataframe\">\n",
       "  <thead>\n",
       "    <tr style=\"text-align: right;\">\n",
       "      <th></th>\n",
       "      <th>customer_id</th>\n",
       "      <th>product_category</th>\n",
       "      <th>purchase_amount</th>\n",
       "    </tr>\n",
       "  </thead>\n",
       "  <tbody>\n",
       "    <tr>\n",
       "      <th>0</th>\n",
       "      <td>101</td>\n",
       "      <td>Clothing</td>\n",
       "      <td>90.0</td>\n",
       "    </tr>\n",
       "    <tr>\n",
       "      <th>1</th>\n",
       "      <td>102</td>\n",
       "      <td>Clothing</td>\n",
       "      <td>80.0</td>\n",
       "    </tr>\n",
       "    <tr>\n",
       "      <th>2</th>\n",
       "      <td>103</td>\n",
       "      <td>Clothing</td>\n",
       "      <td>100.0</td>\n",
       "    </tr>\n",
       "    <tr>\n",
       "      <th>3</th>\n",
       "      <td>104</td>\n",
       "      <td>Clothing</td>\n",
       "      <td>NaN</td>\n",
       "    </tr>\n",
       "    <tr>\n",
       "      <th>4</th>\n",
       "      <td>101</td>\n",
       "      <td>Electronics</td>\n",
       "      <td>250.0</td>\n",
       "    </tr>\n",
       "    <tr>\n",
       "      <th>5</th>\n",
       "      <td>102</td>\n",
       "      <td>Electronics</td>\n",
       "      <td>300.0</td>\n",
       "    </tr>\n",
       "    <tr>\n",
       "      <th>6</th>\n",
       "      <td>103</td>\n",
       "      <td>Electronics</td>\n",
       "      <td>NaN</td>\n",
       "    </tr>\n",
       "    <tr>\n",
       "      <th>7</th>\n",
       "      <td>104</td>\n",
       "      <td>Electronics</td>\n",
       "      <td>NaN</td>\n",
       "    </tr>\n",
       "    <tr>\n",
       "      <th>8</th>\n",
       "      <td>101</td>\n",
       "      <td>Groceries</td>\n",
       "      <td>40.0</td>\n",
       "    </tr>\n",
       "    <tr>\n",
       "      <th>9</th>\n",
       "      <td>102</td>\n",
       "      <td>Groceries</td>\n",
       "      <td>NaN</td>\n",
       "    </tr>\n",
       "    <tr>\n",
       "      <th>10</th>\n",
       "      <td>103</td>\n",
       "      <td>Groceries</td>\n",
       "      <td>NaN</td>\n",
       "    </tr>\n",
       "    <tr>\n",
       "      <th>11</th>\n",
       "      <td>104</td>\n",
       "      <td>Groceries</td>\n",
       "      <td>60.0</td>\n",
       "    </tr>\n",
       "  </tbody>\n",
       "</table>\n",
       "</div>"
      ],
      "text/plain": [
       "    customer_id product_category  purchase_amount\n",
       "0           101         Clothing             90.0\n",
       "1           102         Clothing             80.0\n",
       "2           103         Clothing            100.0\n",
       "3           104         Clothing              NaN\n",
       "4           101      Electronics            250.0\n",
       "5           102      Electronics            300.0\n",
       "6           103      Electronics              NaN\n",
       "7           104      Electronics              NaN\n",
       "8           101        Groceries             40.0\n",
       "9           102        Groceries              NaN\n",
       "10          103        Groceries              NaN\n",
       "11          104        Groceries             60.0"
      ]
     },
     "execution_count": 8,
     "metadata": {},
     "output_type": "execute_result"
    }
   ],
   "source": [
    "# How to reverse the above\n",
    "pd.melt(df, id_vars = 'customer_id', var_name='product_category', value_name='purchase_amount')"
   ]
  },
  {
   "cell_type": "markdown",
   "id": "8e8ccda4-8a6d-4f69-be22-ca7f251027c5",
   "metadata": {},
   "source": [
    "Write a SQL query to find the second highest purchase value per customer.\n",
    "WITH customer_spend_rank AS\n",
    "(SELECT\n",
    "    customer,\n",
    "    purchase_amount, \n",
    "    RANK() OVER (PARTITION BY customer ORDER BY purchase_amount DESC) AS rank\n",
    "FROM\n",
    "    customer_spend)\n",
    "SELECT \n",
    "    customer,\n",
    "    purchase_amount\n",
    "FROM\n",
    "    customer_spend_rank\n",
    "WHERE \n",
    "    rank=2;"
   ]
  },
  {
   "cell_type": "code",
   "execution_count": null,
   "id": "139617e9-07b1-4dd1-b17e-6bc6b1e65865",
   "metadata": {},
   "outputs": [],
   "source": [
    "# Write a Python function to calculate the moving average of a customer’s transaction amounts.\n"
   ]
  },
  {
   "cell_type": "code",
   "execution_count": null,
   "id": "dadcd1e1-c4f1-453a-a646-6e6fab341165",
   "metadata": {},
   "outputs": [],
   "source": [
    "# Given a dataset with customer transactions, use Python to find the top 3 most frequent product combinations."
   ]
  },
  {
   "cell_type": "code",
   "execution_count": null,
   "id": "8413d67e-a4a0-4cea-bbcd-68aa1df6131e",
   "metadata": {},
   "outputs": [],
   "source": [
    "# Write a PySpark job to aggregate daily sales into weekly buckets"
   ]
  },
  {
   "cell_type": "code",
   "execution_count": null,
   "id": "f1257356-e842-454a-9cfa-c95eee395e4a",
   "metadata": {},
   "outputs": [],
   "source": [
    "#Write a SQL query to calculate customer retention month over month."
   ]
  },
  {
   "cell_type": "code",
   "execution_count": null,
   "id": "5025c739-da0f-4017-88d6-e3142104d90a",
   "metadata": {},
   "outputs": [],
   "source": [
    "# Explain the difference between .map(), .apply(), and .transform() in Pandas."
   ]
  },
  {
   "cell_type": "code",
   "execution_count": null,
   "id": "2523f8d7-384e-426e-961f-d068af3645e2",
   "metadata": {},
   "outputs": [],
   "source": [
    "# Write a function to detect outliers in transaction amounts using IQR."
   ]
  },
  {
   "cell_type": "code",
   "execution_count": null,
   "id": "f767f675-2d28-4027-a4c3-f8da96a7e9e4",
   "metadata": {},
   "outputs": [],
   "source": [
    "# Write SQL to join a promotions table to a sales table using a date range condition."
   ]
  },
  {
   "cell_type": "code",
   "execution_count": null,
   "id": "7b37bc4e-1623-48be-8d37-edc421fe1e80",
   "metadata": {},
   "outputs": [],
   "source": []
  }
 ],
 "metadata": {
  "kernelspec": {
   "display_name": "Python 3 (ipykernel)",
   "language": "python",
   "name": "python3"
  },
  "language_info": {
   "codemirror_mode": {
    "name": "ipython",
    "version": 3
   },
   "file_extension": ".py",
   "mimetype": "text/x-python",
   "name": "python",
   "nbconvert_exporter": "python",
   "pygments_lexer": "ipython3",
   "version": "3.11.7"
  }
 },
 "nbformat": 4,
 "nbformat_minor": 5
}
